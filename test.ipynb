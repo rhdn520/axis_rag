{
 "cells": [
  {
   "cell_type": "code",
   "execution_count": 11,
   "id": "b74a2424",
   "metadata": {},
   "outputs": [],
   "source": [
    "from datasets import load_dataset\n",
    "\n",
    "marco_data = load_dataset(\"microsoft/ms_marco\", \"v1.1\", split =\"train\", streaming=True)"
   ]
  },
  {
   "cell_type": "code",
   "execution_count": 12,
   "id": "9ed1d2ef",
   "metadata": {},
   "outputs": [
    {
     "name": "stdout",
     "output_type": "stream",
     "text": [
      "{'answers': ['Results-Based Accountability is a disciplined way of thinking and taking action that communities can use to improve the lives of children, youth, families, adults and the community as a whole.'], 'passages': {'is_selected': [0, 0, 0, 0, 0, 1, 0, 0, 0, 0], 'passage_text': [\"Since 2007, the RBA's outstanding reputation has been affected by the 'Securency' or NPA scandal. These RBA subsidiaries were involved in bribing overseas officials so that Australia might win lucrative note-printing contracts. The assets of the bank include the gold and foreign exchange reserves of Australia, which is estimated to have a net worth of A$101 billion. Nearly 94% of the RBA's employees work at its headquarters in Sydney, New South Wales and at the Business Resumption Site.\", \"The Reserve Bank of Australia (RBA) came into being on 14 January 1960 as Australia 's central bank and banknote issuing authority, when the Reserve Bank Act 1959 removed the central banking functions from the Commonwealth Bank. The assets of the bank include the gold and foreign exchange reserves of Australia, which is estimated to have a net worth of A$101 billion. Nearly 94% of the RBA's employees work at its headquarters in Sydney, New South Wales and at the Business Resumption Site.\", 'RBA Recognized with the 2014 Microsoft US Regional Partner of the ... by PR Newswire. Contract Awarded for supply and support the. Securitisations System used for risk management and analysis. ', 'The inner workings of a rebuildable atomizer are surprisingly simple. The coil inside the RBA is made of some type of resistance wire, normally Kanthal or nichrome. When a current is applied to the coil (resistance wire), it heats up and the heated coil then vaporizes the eliquid. 1 The bottom feed RBA is, perhaps, the easiest of all RBA types to build, maintain, and use. 2  It is filled from below, much like bottom coil clearomizer. 3  Bottom feed RBAs can utilize cotton instead of silica for the wick. 4  The Genesis, or genny, is a top feed RBA that utilizes a short woven mesh wire.', 'Results-Based Accountability® (also known as RBA) is a disciplined way of thinking and taking action that communities can use to improve the lives of children, youth, families, adults and the community as a whole. RBA is also used by organizations to improve the performance of their programs. RBA improves the lives of children, families, and communities and the performance of programs because RBA: 1  Gets from talk to action quickly; 2  Is a simple, common sense process that everyone can understand; 3  Helps groups to surface and challenge assumptions that can be barriers to innovation;', 'Results-Based Accountability® (also known as RBA) is a disciplined way of thinking and taking action that communities can use to improve the lives of children, youth, families, adults and the community as a whole. RBA is also used by organizations to improve the performance of their programs. Creating Community Impact with RBA. Community impact focuses on conditions of well-being for children, families and the community as a whole that a group of leaders is working collectively to improve. For example: “Residents with good jobs,” “Children ready for school,” or “A safe and clean neighborhood”.', 'RBA uses a data-driven, decision-making process to help communities and organizations get beyond talking about problems to taking action to solve problems. It is a simple, common sense framework that everyone can understand. RBA starts with ends and works backward, towards means. The “end” or difference you are trying to make looks slightly different if you are working on a broad community level or are focusing on your specific program or organization. RBA improves the lives of children, families, and communities and the performance of programs because RBA: 1  Gets from talk to action quickly; 2  Is a simple, common sense process that everyone can understand; 3  Helps groups to surface and challenge assumptions that can be barriers to innovation;', 'vs. NetIQ Identity Manager. Risk-based authentication (RBA) is a method of applying varying levels of stringency to authentication processes based on the likelihood that access to a given system could result in its being compromised. Risk-based authentication can be categorized as either user-dependent or transaction-dependent. User-dependent RBA processes employ the same authentication for every session initiated by a given user; the exact credentials that the site demands depend on who the user is.', 'A rebuildable atomizer (RBA), often referred to as simply a “rebuildable,” is just a special type of atomizer used in the Vape Pen and Mod Industry that connects to a personal vaporizer. 1 The bottom feed RBA is, perhaps, the easiest of all RBA types to build, maintain, and use. 2  It is filled from below, much like bottom coil clearomizer. 3  Bottom feed RBAs can utilize cotton instead of silica for the wick. 4  The Genesis, or genny, is a top feed RBA that utilizes a short woven mesh wire.', 'Get To Know Us. RBA is a digital and technology consultancy with roots in strategy, design and technology. Our team of specialists help progressive companies deliver modern digital experiences backed by proven technology engineering. '], 'url': ['https://en.wikipedia.org/wiki/Reserve_Bank_of_Australia', 'https://en.wikipedia.org/wiki/Reserve_Bank_of_Australia', 'http://acronyms.thefreedictionary.com/RBA', 'https://www.slimvapepen.com/rebuildable-atomizer-rba/', 'http://rba-africa.com/about/what-is-rba/', 'http://resultsleadership.org/what-is-results-based-accountability-rba/', 'http://rba-africa.com/about/what-is-rba/', 'http://searchsecurity.techtarget.com/definition/risk-based-authentication-RBA', 'https://www.slimvapepen.com/rebuildable-atomizer-rba/', 'http://www.rbaconsulting.com/']}, 'query': 'what is rba', 'query_id': 19699, 'query_type': 'description', 'wellFormedAnswers': []}\n"
     ]
    }
   ],
   "source": [
    "passages = []\n",
    "for data in marco_data:\n",
    "    # passages += data['passages']['passage_text']\n",
    "    print(data)\n",
    "    break"
   ]
  },
  {
   "cell_type": "code",
   "execution_count": null,
   "id": "7451fb7c",
   "metadata": {},
   "outputs": [
    {
     "data": {
      "application/vnd.jupyter.widget-view+json": {
       "model_id": "d2f61ab93c4a42dda729fcd8aeaa685c",
       "version_major": 2,
       "version_minor": 0
      },
      "text/plain": [
       "Fetching 30 files:   0%|          | 0/30 [00:00<?, ?it/s]"
      ]
     },
     "metadata": {},
     "output_type": "display_data"
    },
    {
     "name": "stderr",
     "output_type": "stream",
     "text": [
      "pre tokenize: 100%|██████████| 4/4 [00:00<00:00, 120.53it/s]\n",
      "You're using a XLMRobertaTokenizerFast tokenizer. Please note that with a fast tokenizer, using the `__call__` method is faster than using a method to encode the text followed by a call to the `pad` method to get a padded encoding.\n",
      "Inference Embeddings: 100%|██████████| 4/4 [00:00<00:00, 28.75it/s]\n"
     ]
    }
   ],
   "source": [
    "import os\n",
    "os.environ[\"HF_HOME\"] = \"/home/seungwoochoi/data/huggingface/cache\"\n",
    "from datasets import load_dataset\n",
    "from FlagEmbedding import BGEM3FlagModel\n",
    "marco_data = load_dataset(\"microsoft/ms_marco\", \"v1.1\", split =\"train\", streaming=True)\n",
    "\n",
    "passages = [] \n",
    "for data in marco_data:\n",
    "    passages += data['passages']['passage_text']\n",
    "    # if(len(passages) > 100):\n",
    "    #     break\n",
    "\n",
    "\n",
    "model = BGEM3FlagModel('BAAI/bge-m3', use_fp16=True) \n",
    "\n",
    "passage_embeddings = model.encode(passages, batch_size=32, max_length=8192, return_dense=True)\n",
    "\n"
   ]
  },
  {
   "cell_type": "code",
   "execution_count": 2,
   "metadata": {},
   "outputs": [
    {
     "name": "stderr",
     "output_type": "stream",
     "text": [
      "pre tokenize: 100%|██████████| 1/1 [00:00<00:00, 1894.45it/s]\n",
      "Inference Embeddings: 100%|██████████| 1/1 [00:00<00:00, 84.53it/s]\n"
     ]
    }
   ],
   "source": [
    "query = \"What is definition of RBA\"\n",
    "\n",
    "query_embedding = model.encode([query], batch_size=1, return_dense=True)['dense_vecs'][0]\n",
    "\n"
   ]
  },
  {
   "cell_type": "code",
   "execution_count": 5,
   "id": "edb5ca1c",
   "metadata": {},
   "outputs": [],
   "source": [
    "passages = passages * 100\n"
   ]
  },
  {
   "cell_type": "code",
   "execution_count": 6,
   "id": "e939b98d",
   "metadata": {},
   "outputs": [
    {
     "data": {
      "text/plain": [
       "108000000"
      ]
     },
     "execution_count": 6,
     "metadata": {},
     "output_type": "execute_result"
    }
   ],
   "source": [
    "len(passages)"
   ]
  },
  {
   "cell_type": "code",
   "execution_count": 8,
   "id": "630c85f8",
   "metadata": {},
   "outputs": [
    {
     "name": "stdout",
     "output_type": "stream",
     "text": [
      "9\n"
     ]
    },
    {
     "data": {
      "text/plain": [
       "'Get To Know Us. RBA is a digital and technology consultancy with roots in strategy, design and technology. Our team of specialists help progressive companies deliver modern digital experiences backed by proven technology engineering. '"
      ]
     },
     "execution_count": 8,
     "metadata": {},
     "output_type": "execute_result"
    }
   ],
   "source": [
    "import numpy as np\n",
    "print(np.argmax(np.dot(passage_embeddings['dense_vecs'], query_embedding.T)))\n",
    "passages[np.argmax(np.dot(passage_embeddings['dense_vecs'], query_embedding.T))]"
   ]
  },
  {
   "cell_type": "code",
   "execution_count": 9,
   "id": "7e4390af",
   "metadata": {},
   "outputs": [],
   "source": [
    "np.save(\"/home/seungwoochoi/data/axis_rag/data/matrix.npy\", passage_embeddings['dense_vecs'])\n"
   ]
  },
  {
   "cell_type": "code",
   "execution_count": 16,
   "id": "d2fde09d",
   "metadata": {},
   "outputs": [],
   "source": [
    "passage_embeddings = np.load(\"/home/seungwoochoi/data/axis_rag/data/ms_marco_embedding.npy\")"
   ]
  },
  {
   "cell_type": "code",
   "execution_count": 19,
   "id": "36614e25",
   "metadata": {},
   "outputs": [
    {
     "name": "stdout",
     "output_type": "stream",
     "text": [
      "333788\n"
     ]
    }
   ],
   "source": [
    "print(np.argmax(np.dot(passage_embeddings, query_embedding.T)))\n",
    "# passages[np.argmax(np.dot(passage_embeddings, query_embedding.T))]"
   ]
  }
 ],
 "metadata": {
  "kernelspec": {
   "display_name": "Python 3 (ipykernel)",
   "language": "python",
   "name": "python3"
  }
 },
 "nbformat": 4,
 "nbformat_minor": 5
}
